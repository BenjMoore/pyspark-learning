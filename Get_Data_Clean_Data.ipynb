{
 "cells": [
  {
   "cell_type": "markdown",
   "metadata": {
    "application/vnd.databricks.v1+cell": {
     "cellMetadata": {
      "byteLimit": 2048000,
      "rowLimit": 10000
     },
     "inputWidgets": {},
     "nuid": "58fd5d92-7188-4e18-8087-7dd579c7d59d",
     "showTitle": false,
     "tableResultSettingsMap": {},
     "title": ""
    }
   },
   "source": [
    "###Import Libraries"
   ]
  },
  {
   "cell_type": "code",
   "execution_count": 0,
   "metadata": {
    "application/vnd.databricks.v1+cell": {
     "cellMetadata": {
      "byteLimit": 2048000,
      "rowLimit": 10000
     },
     "inputWidgets": {},
     "nuid": "9bd4f725-3003-4d69-bebb-3116873b3fe9",
     "showTitle": false,
     "tableResultSettingsMap": {},
     "title": ""
    }
   },
   "outputs": [],
   "source": [
    "from pyspark.sql.types import StructType, StructField, StringType\n",
    "from pyspark.sql import SparkSession"
   ]
  },
  {
   "cell_type": "markdown",
   "metadata": {
    "application/vnd.databricks.v1+cell": {
     "cellMetadata": {
      "byteLimit": 2048000,
      "rowLimit": 10000
     },
     "inputWidgets": {},
     "nuid": "e196c1c4-44bd-4b15-81ed-d3da2c0f9efe",
     "showTitle": false,
     "tableResultSettingsMap": {},
     "title": ""
    }
   },
   "source": [
    "### Load Bronze Layer (Unprocessed)"
   ]
  },
  {
   "cell_type": "code",
   "execution_count": 0,
   "metadata": {
    "application/vnd.databricks.v1+cell": {
     "cellMetadata": {
      "byteLimit": 2048000,
      "rowLimit": 10000
     },
     "inputWidgets": {},
     "nuid": "cd8f2870-16fc-43a0-8c41-934b3014c8e2",
     "showTitle": false,
     "tableResultSettingsMap": {
      "0": {
       "dataGridStateBlob": "{\"version\":1,\"tableState\":{\"columnPinning\":{\"left\":[\"#row_number#\"],\"right\":[]},\"columnSizing\":{},\"columnVisibility\":{}},\"settings\":{\"columns\":{}},\"syncTimestamp\":1756430306526}",
       "filterBlob": null,
       "queryPlanFiltersBlob": null,
       "tableResultIndex": 0
      }
     },
     "title": ""
    }
   },
   "outputs": [],
   "source": [
    "spark = SparkSession.builder.appName('app').getOrCreate() # Create Spark Session\n",
    "\n",
    "# Import Drive Data (Json)\n",
    "df_json = spark.read.format('json').option('inferSchema',True)\\\n",
    "                    .option('header',True)\\\n",
    "                    .option('multiLine',False)\\\n",
    "                    .load('/Volumes/ben-demo/default/bigmart/drivers.json')\n",
    "\n",
    "# Import Sales Data (CSV)\n",
    "df = spark.read.format('csv').option('inferSchema',True).option('header',True).load('/Volumes/ben-demo/default/bigmart/BigMart Sales.csv')\n",
    "\n",
    "\n",
    "df.display() # Display CSV\n",
    "df_json.display() # Display Json\n",
    "\n",
    "'''\n",
    "# Combine Data and display\n",
    "df_combined = df.unionByName(df_json, allowMissingColumns=True)\n",
    "df_combined.display()\n",
    "'''"
   ]
  },
  {
   "cell_type": "markdown",
   "metadata": {
    "application/vnd.databricks.v1+cell": {
     "cellMetadata": {},
     "inputWidgets": {},
     "nuid": "fa4afa51-279d-4a88-9746-65544e61d265",
     "showTitle": false,
     "tableResultSettingsMap": {},
     "title": ""
    }
   },
   "source": [
    "### Clean Data (Silver)"
   ]
  },
  {
   "cell_type": "code",
   "execution_count": 0,
   "metadata": {
    "application/vnd.databricks.v1+cell": {
     "cellMetadata": {
      "byteLimit": 2048000,
      "rowLimit": 10000
     },
     "inputWidgets": {},
     "nuid": "b4dbfe08-23db-4a31-94b9-aede001de37c",
     "showTitle": false,
     "tableResultSettingsMap": {},
     "title": ""
    }
   },
   "outputs": [],
   "source": [
    "# Clean Data\n",
    "\n",
    "# Create new schemas for only wanted datatypes\n",
    "shopInfo_schema = StructType([\n",
    "    StructField('Item_Identifier', StringType(), True),\n",
    "    StructField('Item_Weight', StringType(), True),\n",
    "    StructField('Item_Fat_Content', StringType(), True),\n",
    "    StructField('Item_MRP', StringType(), True),\n",
    "    StructField('Outlet_Identifier', StringType(), True),\n",
    "    StructField('Outlet_Establishment_Year', StringType(), True),\n",
    "    StructField('Outlet_Size', StringType(), True),\n",
    "    StructField('Item_Outlet_Sales', StringType(), True)\n",
    "])\n",
    "\n",
    "drivers_schema = StructType([\n",
    "    StructField(\"driverId\", StringType(), True),\n",
    "    StructField(\"number\", StringType(), True),\n",
    "    StructField(\"code\", StringType(), True),  \n",
    "    StructField(\"name\", StringType(), True),\n",
    "    StructField(\"nationality\", StringType(), True),\n",
    "    StructField(\"url\", StringType(), True)\n",
    "])\n",
    "\n",
    "selected_shop_cols = [f.name for f in shopInfo_schema.fields]\n",
    "selected_driver_cols = [f.name for f in drivers_schema.fields]\n",
    "\n",
    "df_shopInfo = df.select(*selected_shop_cols)\n",
    "df_drivers = df_json.select(*selected_driver_cols)\n",
    "\n",
    "df_shopInfo.display()\n",
    "df_drivers.display()\n",
    "\n",
    "df_shopInfo.write.mode('overwrite') \\\n",
    "    .option('header', True) \\\n",
    "    .csv('/Volumes/ben-demo/default/bigmart/BigMart_Cleaned')\n",
    "\n",
    "df_shopInfo.write.mode('overwrite') \\\n",
    "    .option('header', True) \\\n",
    "    .csv('/Volumes/ben-demo/default/bigmart/drivers_cleaned.json')"
   ]
  }
 ],
 "metadata": {
  "application/vnd.databricks.v1+notebook": {
   "computePreferences": null,
   "dashboards": [],
   "environmentMetadata": {
    "base_environment": "",
    "environment_version": "3"
   },
   "inputWidgetPreferences": null,
   "language": "python",
   "notebookMetadata": {
    "pythonIndentUnit": 4
   },
   "notebookName": "Get_Data_Clean_Data",
   "widgets": {}
  },
  "language_info": {
   "name": "python"
  }
 },
 "nbformat": 4,
 "nbformat_minor": 0
}
